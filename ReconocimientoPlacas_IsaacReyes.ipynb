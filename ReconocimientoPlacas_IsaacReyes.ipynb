{
  "cells": [
    {
      "cell_type": "markdown",
      "metadata": {
        "id": "070rdSw5Rgq2"
      },
      "source": [
        "# AUTOR: Isaac Reyes"
      ]
    },
    {
      "cell_type": "code",
      "execution_count": 1,
      "metadata": {
        "colab": {
          "base_uri": "https://localhost:8080/"
        },
        "id": "7K4EiHfNRdQe",
        "outputId": "00a9d68a-3d05-45d6-9596-6ca6f5c292ea"
      },
      "outputs": [
        {
          "name": "stdout",
          "output_type": "stream",
          "text": [
            "Reading package lists... Done\n",
            "Building dependency tree... Done\n",
            "Reading state information... Done\n",
            "tesseract-ocr is already the newest version (4.1.1-2.1build1).\n",
            "0 upgraded, 0 newly installed, 0 to remove and 35 not upgraded.\n"
          ]
        }
      ],
      "source": [
        "!sudo apt install tesseract-ocr"
      ]
    },
    {
      "cell_type": "code",
      "execution_count": 2,
      "metadata": {
        "colab": {
          "base_uri": "https://localhost:8080/"
        },
        "id": "zF5nhsBqTJl6",
        "outputId": "b9053d87-149a-426f-ce7f-ef6ecd945d2e"
      },
      "outputs": [
        {
          "name": "stdout",
          "output_type": "stream",
          "text": [
            "Requirement already satisfied: pytesseract in /usr/local/lib/python3.10/dist-packages (0.3.10)\n",
            "Requirement already satisfied: packaging>=21.3 in /usr/local/lib/python3.10/dist-packages (from pytesseract) (23.2)\n",
            "Requirement already satisfied: Pillow>=8.0.0 in /usr/local/lib/python3.10/dist-packages (from pytesseract) (9.4.0)\n"
          ]
        }
      ],
      "source": [
        "!pip install pytesseract"
      ]
    },
    {
      "cell_type": "code",
      "execution_count": 3,
      "metadata": {
        "id": "QyJBbFvaTPUz"
      },
      "outputs": [],
      "source": [
        "import cv2\n",
        "import pytesseract\n",
        "from google.colab.patches import cv2_imshow"
      ]
    },
    {
      "cell_type": "code",
      "execution_count": 4,
      "metadata": {
        "id": "T6SVQ9P8TWIs"
      },
      "outputs": [],
      "source": [
        "placa = []\n",
        "image = cv2.imread('auto006.jpg')\n",
        "gray = cv2.cvtColor(image, cv2.COLOR_BGR2GRAY)\n",
        "gray = cv2.blur(gray,(3,3))\n",
        "canny = cv2.Canny(gray,150,200)\n",
        "canny = cv2.dilate(canny,None,iterations=1)"
      ]
    },
    {
      "cell_type": "code",
      "execution_count": 5,
      "metadata": {
        "id": "1GNSbPcRUJ8x"
      },
      "outputs": [],
      "source": [
        "cv2_imshow(image)"
      ]
    },
    {
      "cell_type": "code",
      "execution_count": null,
      "metadata": {
        "id": "9AxxhqgBUNRM"
      },
      "outputs": [],
      "source": [
        "cv2_imshow(gray)"
      ]
    },
    {
      "cell_type": "code",
      "execution_count": null,
      "metadata": {
        "id": "KFSPBkfEUPUl"
      },
      "outputs": [],
      "source": [
        "cv2_imshow(canny)"
      ]
    },
    {
      "cell_type": "code",
      "execution_count": null,
      "metadata": {
        "id": "ngsg1xNRUXdm"
      },
      "outputs": [],
      "source": [
        "cnts,_ = cv2.findContours(canny,cv2.RETR_LIST,cv2.CHAIN_APPROX_SIMPLE)#OpenCV 4"
      ]
    },
    {
      "cell_type": "code",
      "execution_count": null,
      "metadata": {
        "id": "zE9GlY2AUaID"
      },
      "outputs": [],
      "source": [
        "for c in cnts:\n",
        "  area = cv2.contourArea(c)\n",
        "  x,y,w,h = cv2.boundingRect(c)\n",
        "  epsilon = 0.09*cv2.arcLength(c,True)\n",
        "  approx = cv2.approxPolyDP(c,epsilon,True)\n",
        "  #print('approx: ', approx, ' area=',area)\n",
        "  if len(approx)==4 and area>9000:\n",
        "    print('area=',area)\n",
        "    #print('len=',approx)\n",
        "    cv2.drawContours(image,[approx],0,(0,255,0),3)\n",
        "    aspect_ratio = float(w)/h\n",
        "    print('ratio=',aspect_ratio)\n",
        "    if aspect_ratio>2.4:\n",
        "      placa = gray[y:y+h,x:x+w]\n",
        "      text = pytesseract.image_to_string(placa,config='--psm 11')\n",
        "      print('PLACA: ',text)\n",
        "      cv2_imshow(placa)\n",
        "      #cv2.imshow('PLACA',placa)\n",
        "      #cv2.moveWindow('PLACA',780,10)\n",
        "      cv2.rectangle(image,(x,y),(x+w,y+h),(0,255,0),3)\n",
        "      cv2.putText(image,text,(x-20,y-10),1,2.2,(0,255,0),3)\n",
        "\n",
        "\n",
        "\n",
        "cv2_imshow(image)"
      ]
    }
  ],
  "metadata": {
    "colab": {
      "provenance": []
    },
    "kernelspec": {
      "display_name": "Python 3",
      "name": "python3"
    },
    "language_info": {
      "name": "python"
    }
  },
  "nbformat": 4,
  "nbformat_minor": 0
}
