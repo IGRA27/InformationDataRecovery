{
  "nbformat": 4,
  "nbformat_minor": 0,
  "metadata": {
    "colab": {
      "provenance": []
    },
    "kernelspec": {
      "name": "python3",
      "display_name": "Python 3"
    },
    "language_info": {
      "name": "python"
    }
  },
  "cells": [
    {
      "cell_type": "code",
      "execution_count": null,
      "metadata": {
        "id": "RUROGQT_QLgW"
      },
      "outputs": [],
      "source": [
        "#Autor: Isaac Reyes\n",
        "#instalamos fpdf"
      ]
    },
    {
      "cell_type": "code",
      "source": [
        "!pip install fpdf"
      ],
      "metadata": {
        "colab": {
          "base_uri": "https://localhost:8080/"
        },
        "id": "fJF4WmWYSC2n",
        "outputId": "f671dfa2-4d10-4300-e843-97bba2bd5dac"
      },
      "execution_count": null,
      "outputs": [
        {
          "output_type": "stream",
          "name": "stdout",
          "text": [
            "Requirement already satisfied: fpdf in /usr/local/lib/python3.10/dist-packages (1.7.2)\n"
          ]
        }
      ]
    },
    {
      "cell_type": "code",
      "source": [
        "#cargamos librerias\n",
        "#librerias  NLTK y uso de scikit-learn\n",
        "import nltk\n",
        "from sklearn.feature_extraction.text import TfidfVectorizer\n",
        "from sklearn.metrics.pairwise import cosine_similarity\n",
        "from fpdf import FPDF\n",
        "import pandas as pd"
      ],
      "metadata": {
        "id": "Qlf8f9uKR-U5"
      },
      "execution_count": null,
      "outputs": []
    },
    {
      "cell_type": "code",
      "source": [
        "#Ejemplo del Documento\n",
        "documents = [\n",
        "    \"Mi primo tiene un perro que es raza fina\",\n",
        "    \"El perro es blanco y se parece a un lobo\",\n",
        "    \"Mi perro es inteligente\"\n",
        "]\n",
        "\n",
        "#Ejemplo de la consulta\n",
        "query = \"perro blanco\"\n"
      ],
      "metadata": {
        "id": "8U38DQ-xQ2cu"
      },
      "execution_count": null,
      "outputs": []
    },
    {
      "cell_type": "code",
      "source": [
        "# Paso 1:   Token y preproceso del texto\n",
        "nltk.download('punkt')\n",
        "from nltk.tokenize import word_tokenize\n",
        "tokenized_documents = [word_tokenize(doc.lower()) for doc in documents]\n",
        "tokenized_query = word_tokenize(query.lower())"
      ],
      "metadata": {
        "colab": {
          "base_uri": "https://localhost:8080/"
        },
        "id": "JqJwz9sDQ4yZ",
        "outputId": "4c235550-2da0-46c9-d54c-130471859dc4"
      },
      "execution_count": null,
      "outputs": [
        {
          "output_type": "stream",
          "name": "stderr",
          "text": [
            "[nltk_data] Downloading package punkt to /root/nltk_data...\n",
            "[nltk_data]   Package punkt is already up-to-date!\n"
          ]
        }
      ]
    },
    {
      "cell_type": "code",
      "source": [
        "# Paso 2: Calculo del TF-IDF\n",
        "# Convertir documento tokenizado a texto\n",
        "preprocessed_documents = [' '.join(doc) for doc in tokenized_documents]\n",
        "preprocessed_query = ' '.join(tokenized_query)\n",
        "\n",
        "# Crear el TF-IDF vectorizado\n",
        "tfidf_vectorizer = TfidfVectorizer()\n",
        "tfidf_matrix = tfidf_vectorizer.fit_transform(preprocessed_documents)\n",
        "\n",
        "# Transformar el query a TF-IDF vector\n",
        "query_vector = tfidf_vectorizer.transform([preprocessed_query])"
      ],
      "metadata": {
        "id": "W2S-jM_mQ7rD"
      },
      "execution_count": null,
      "outputs": []
    },
    {
      "cell_type": "code",
      "source": [
        "# Paso 3 : Cálculo del coseno de similaridad\n",
        "cosine_similarities = cosine_similarity(query_vector, tfidf_matrix)"
      ],
      "metadata": {
        "id": "PuI3zaukQ7o1"
      },
      "execution_count": null,
      "outputs": []
    },
    {
      "cell_type": "code",
      "source": [
        "# Paso 4: Ranking de documentos por similaridad\n",
        "results = [(documents[i], cosine_similarities[0][i]) for i in range(len(documents))]"
      ],
      "metadata": {
        "id": "rN8yrlAbQ7mS"
      },
      "execution_count": null,
      "outputs": []
    },
    {
      "cell_type": "code",
      "source": [
        "# Función para crear y guardar el PDF\n",
        "def create_and_save_pdf(results, title, file_path):\n",
        "    pdf = FPDF()\n",
        "    pdf.add_page()\n",
        "    pdf.set_font(\"Arial\", size=12)\n",
        "    pdf.cell(200, 10, txt=title, ln=True, align='C')\n",
        "    for doc, similarity in results:\n",
        "        pdf.cell(200, 10, txt=f\"{doc} (Similarity: {similarity:.2f})\", ln=True, align='L')\n",
        "    pdf.output(file_path)"
      ],
      "metadata": {
        "id": "rLgykduVUeAK"
      },
      "execution_count": null,
      "outputs": []
    },
    {
      "cell_type": "code",
      "source": [
        "# Crear y guardar el primer PDF\n",
        "create_and_save_pdf(results, \"Similaridad de Documentos Inicial\", \"pdf_inicialIsaacReyes.pdf\")"
      ],
      "metadata": {
        "id": "7bDh8IA0Q7LN"
      },
      "execution_count": null,
      "outputs": []
    },
    {
      "cell_type": "code",
      "source": [
        "# Añadir más documentos o cambiar la consulta\n",
        "additional_documents = [\n",
        "    \"Los perros pueden ser entrenados\",\n",
        "    \"Existen muchas razas de perros\",\n",
        "    \"Un perro puede ser un gran compañero\"\n",
        "]"
      ],
      "metadata": {
        "id": "pCvT6jWyRY0l"
      },
      "execution_count": null,
      "outputs": []
    },
    {
      "cell_type": "code",
      "source": [
        "# Incluir los documentos adicionales\n",
        "documents.extend(additional_documents)"
      ],
      "metadata": {
        "id": "OdPE8eOyRgej"
      },
      "execution_count": null,
      "outputs": []
    },
    {
      "cell_type": "code",
      "source": [
        "# Repetir el proceso de tokenización, cálculo de TF-IDF y similaridad\n",
        "tokenized_documents = [word_tokenize(doc.lower()) for doc in documents]\n",
        "preprocessed_documents = [' '.join(doc) for doc in tokenized_documents]\n",
        "tfidf_matrix = tfidf_vectorizer.fit_transform(preprocessed_documents)\n",
        "query_vector = tfidf_vectorizer.transform([preprocessed_query])\n",
        "cosine_similarities = cosine_similarity(query_vector, tfidf_matrix)\n",
        "results = [(documents[i], cosine_similarities[0][i]) for i in range(len(documents))]"
      ],
      "metadata": {
        "id": "U9pkNTlxRkz_"
      },
      "execution_count": null,
      "outputs": []
    },
    {
      "cell_type": "code",
      "source": [
        "# Crear y guardar el segundo PDF\n",
        "create_and_save_pdf(results, \"Similaridad de Documentos Extendida\", \"pdf_textoextendidoIsaacReyes.pdf\")"
      ],
      "metadata": {
        "id": "Voqe670hRrUM"
      },
      "execution_count": null,
      "outputs": []
    }
  ]
}